{
 "cells": [
  {
   "cell_type": "markdown",
   "metadata": {},
   "source": [
    "Non-Graded Assignment ini dibuat guna mengevaluasi pembelajaran pada Hacktiv8 Data Science Fulltime Program khususnya pada konsep **Calculus**."
   ]
  },
  {
   "cell_type": "markdown",
   "metadata": {},
   "source": [
    "## Problem"
   ]
  },
  {
   "cell_type": "markdown",
   "metadata": {},
   "source": [
    "Carilah Gradient dari sebuah fungsi berikut:  \n",
    "3x + 4y = 5"
   ]
  },
  {
   "cell_type": "markdown",
   "metadata": {},
   "source": [
    "## Answer"
   ]
  },
  {
   "cell_type": "code",
   "execution_count": 3,
   "metadata": {},
   "outputs": [],
   "source": [
    "import numpy as np"
   ]
  },
  {
   "cell_type": "code",
   "execution_count": 1,
   "metadata": {},
   "outputs": [],
   "source": [
    "def f(x, y):\n",
    "    return 3*x + 4*y - 5"
   ]
  },
  {
   "cell_type": "code",
   "execution_count": 4,
   "metadata": {},
   "outputs": [],
   "source": [
    "x = np.linspace(1, 10)\n",
    "y = np.linspace(1, 10)\n",
    "z = np.array([[f(i, j) for i in x] for j in y])"
   ]
  },
  {
   "cell_type": "code",
   "execution_count": 5,
   "metadata": {},
   "outputs": [],
   "source": [
    "dx, dy = np.gradient(z)"
   ]
  },
  {
   "cell_type": "code",
   "execution_count": 6,
   "metadata": {},
   "outputs": [
    {
     "data": {
      "text/plain": [
       "array([[0.73469388, 0.73469388, 0.73469388, ..., 0.73469388, 0.73469388,\n",
       "        0.73469388],\n",
       "       [0.73469388, 0.73469388, 0.73469388, ..., 0.73469388, 0.73469388,\n",
       "        0.73469388],\n",
       "       [0.73469388, 0.73469388, 0.73469388, ..., 0.73469388, 0.73469388,\n",
       "        0.73469388],\n",
       "       ...,\n",
       "       [0.73469388, 0.73469388, 0.73469388, ..., 0.73469388, 0.73469388,\n",
       "        0.73469388],\n",
       "       [0.73469388, 0.73469388, 0.73469388, ..., 0.73469388, 0.73469388,\n",
       "        0.73469388],\n",
       "       [0.73469388, 0.73469388, 0.73469388, ..., 0.73469388, 0.73469388,\n",
       "        0.73469388]])"
      ]
     },
     "execution_count": 6,
     "metadata": {},
     "output_type": "execute_result"
    }
   ],
   "source": [
    "dx"
   ]
  },
  {
   "cell_type": "code",
   "execution_count": 7,
   "metadata": {},
   "outputs": [
    {
     "data": {
      "text/plain": [
       "array([[0.55102041, 0.55102041, 0.55102041, ..., 0.55102041, 0.55102041,\n",
       "        0.55102041],\n",
       "       [0.55102041, 0.55102041, 0.55102041, ..., 0.55102041, 0.55102041,\n",
       "        0.55102041],\n",
       "       [0.55102041, 0.55102041, 0.55102041, ..., 0.55102041, 0.55102041,\n",
       "        0.55102041],\n",
       "       ...,\n",
       "       [0.55102041, 0.55102041, 0.55102041, ..., 0.55102041, 0.55102041,\n",
       "        0.55102041],\n",
       "       [0.55102041, 0.55102041, 0.55102041, ..., 0.55102041, 0.55102041,\n",
       "        0.55102041],\n",
       "       [0.55102041, 0.55102041, 0.55102041, ..., 0.55102041, 0.55102041,\n",
       "        0.55102041]])"
      ]
     },
     "execution_count": 7,
     "metadata": {},
     "output_type": "execute_result"
    }
   ],
   "source": [
    "dy"
   ]
  }
 ],
 "metadata": {
  "kernelspec": {
   "display_name": "Python 3.8.5 64-bit",
   "language": "python",
   "name": "python3"
  },
  "language_info": {
   "codemirror_mode": {
    "name": "ipython",
    "version": 3
   },
   "file_extension": ".py",
   "mimetype": "text/x-python",
   "name": "python",
   "nbconvert_exporter": "python",
   "pygments_lexer": "ipython3",
   "version": "3.8.5"
  },
  "orig_nbformat": 4,
  "vscode": {
   "interpreter": {
    "hash": "25d775a05cd5ef828ac55111e2d25fe7a8cdee116904ae28746ef0f2500c8ec5"
   }
  }
 },
 "nbformat": 4,
 "nbformat_minor": 2
}
