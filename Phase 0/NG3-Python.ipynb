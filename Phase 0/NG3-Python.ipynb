{
 "cells": [
  {
   "cell_type": "markdown",
   "metadata": {},
   "source": [
    "# Non Graded Challange 1\n",
    "Non Graded Assignment ini dibuat guna mengevaluasi pembelajaran pada Hacktiv8 Data Science Fulltime Program khususnya pada konsep **Function**."
   ]
  },
  {
   "cell_type": "markdown",
   "metadata": {},
   "source": [
    "## Problem"
   ]
  },
  {
   "cell_type": "markdown",
   "metadata": {},
   "source": [
    "- Buatlah sebuah functtion yang dapat mengonversi suhu dari kelvin ke celcius dan celcius ke kelvin.\n",
    "- Buatlah sebuah function yang dapat mengonversi suhu ke fahrenheit. Tambahkan parameter untuk memastikan bahwa argumen yang dimasukan adalah celcius atau kelvin. Panggil function yang pertama jika diperlukan.\n",
    "- Buatlah sebuah function yang dapat mengonversi suhu dari fahrenheit. Berikan argumen untuk memastikan bahwa outputnya adalah celcius atau kelvin.\n",
    "- Berikan dokumentasi pada setiap baris kode yang kalian tulis."
   ]
  },
  {
   "cell_type": "markdown",
   "metadata": {},
   "source": [
    "## Answer"
   ]
  },
  {
   "cell_type": "markdown",
   "metadata": {},
   "source": [
    "Pada pengerjaan Non Graded Challange ini dilakukan penyederhanaan fungsi. Program akan meminta suatu suhu dari Kelvin atau Celcius atau Fahrenheit yang akan langsung akan diubah ke dua format lainnya secara langsung. "
   ]
  },
  {
   "cell_type": "code",
   "execution_count": 5,
   "metadata": {},
   "outputs": [],
   "source": [
    "# Fungsi untuk mengubah suhu kelvin menjadi suhu celcius dan suhu fahrenheit\n",
    "def from_kelvin(suhu_kelvin):\n",
    "    k_to_c = suhu_kelvin - 273\n",
    "    k_to_f = ((k_to_c*9/5)+32)\n",
    "    print('Suhu {} Kelvin menjadi {:.1f} celcius dan {:.1f} fahrenheit'.format(kelvininput, k_to_c, k_to_f))"
   ]
  },
  {
   "cell_type": "code",
   "execution_count": 6,
   "metadata": {},
   "outputs": [],
   "source": [
    "# Fungsi untuk mengubah suhu celcius menjadi suhu kelvin dan fahrenheit\n",
    "def from_celcius(suhu_celcius):\n",
    "    c_to_k = suhu_celcius + 273\n",
    "    c_to_f = ((suhu_celcius*9/5)+32)\n",
    "    print('Suhu {} Celcius menjadi {:.1f} kelvin dan {:.1f} fahrenheit'.format(celciusinput, c_to_k, c_to_f))"
   ]
  },
  {
   "cell_type": "code",
   "execution_count": 7,
   "metadata": {},
   "outputs": [],
   "source": [
    "# Fungsi untuk mengubah suhu fahrenheit menjadi celcius dan kelvin\n",
    "def from_fahrenheit(suhu_fahrenheit):\n",
    "    f_to_c = (suhu_fahrenheit-32)*5/9\n",
    "    f_to_k = f_to_c + 273\n",
    "    print('Suhu {} Fahrenheit menjadi {:.1f} celcius dan {:.1f} kelvin'.format(fahrenheitinput, f_to_c, f_to_k))"
   ]
  },
  {
   "cell_type": "code",
   "execution_count": 8,
   "metadata": {},
   "outputs": [
    {
     "name": "stdout",
     "output_type": "stream",
     "text": [
      "Suhu 85 Kelvin menjadi -188.0 celcius dan -306.4 fahrenheit\n"
     ]
    }
   ],
   "source": [
    "suhu = input(\"Suhu apa yang kamu punya? (pilih a/b/c) \\n a. celcius \\n b. kelvin \\n c. fahrenheit \")\n",
    "if suhu == 'a':\n",
    "    celciusinput = int(input(\"berapa suhu celcius yang kamu punya?\"))\n",
    "    from_celcius(celciusinput)\n",
    "elif suhu == 'b':\n",
    "    kelvininput = int(input(\"berapa suhu kelvin yang kamu punya?\"))\n",
    "    from_kelvin(kelvininput)\n",
    "elif suhu == 'c':\n",
    "    fahrenheitinput = int(input(\"berapa suhu fahrenheit yang kamu punya?\"))\n",
    "    from_fahrenheit(fahrenheitinput)\n",
    "else:\n",
    "    print('Masukkan pilihan dengan benar!')"
   ]
  }
 ],
 "metadata": {
  "kernelspec": {
   "display_name": "Python 3.8.5 64-bit",
   "language": "python",
   "name": "python3"
  },
  "language_info": {
   "codemirror_mode": {
    "name": "ipython",
    "version": 3
   },
   "file_extension": ".py",
   "mimetype": "text/x-python",
   "name": "python",
   "nbconvert_exporter": "python",
   "pygments_lexer": "ipython3",
   "version": "3.8.5"
  },
  "orig_nbformat": 4,
  "vscode": {
   "interpreter": {
    "hash": "25d775a05cd5ef828ac55111e2d25fe7a8cdee116904ae28746ef0f2500c8ec5"
   }
  }
 },
 "nbformat": 4,
 "nbformat_minor": 2
}
